{
  "nbformat": 4,
  "nbformat_minor": 0,
  "metadata": {
    "colab": {
      "provenance": [],
      "include_colab_link": true
    },
    "kernelspec": {
      "name": "python3",
      "display_name": "Python 3"
    },
    "language_info": {
      "name": "python"
    }
  },
  "cells": [
    {
      "cell_type": "markdown",
      "metadata": {
        "id": "view-in-github",
        "colab_type": "text"
      },
      "source": [
        "<a href=\"https://colab.research.google.com/github/pompaFunebris/ContextBasedCompression/blob/main/Lempel_Ziv_Welch.ipynb\" target=\"_parent\"><img src=\"https://colab.research.google.com/assets/colab-badge.svg\" alt=\"Open In Colab\"/></a>"
      ]
    },
    {
      "cell_type": "markdown",
      "source": [
        "#**Lempel Ziv Welch algorithm**\n",
        "\n",
        "> LZ77 is a loseless data compression algorithm created by Abraham Lempel, Jacob Ziv and Terry Welch. It was published by Welch in 1984 as an improved implementation of the LZ78 algorithm published by Lempel and Ziv in 1978.  is the algorithm of the Unix file compression utility compress and is used in the GIF image format.\n",
        "\n",
        "The LZW algorithm works by building a dictionary of frequently occurring patterns in the input data. It starts with an initial dictionary containing single-character patterns and then grtadually expands it to onclude longer patterns encountered.\n",
        "\n",
        "During compression, the LZW algorithm scans the input data and identifies the longest patterns that have not been seen before. It replaces these patterns with shorter codes that reference entries in the dictionary. By using these codes, the algorithm achieves compression by representing repetitive patterns with shorter codes instead of the original longer sequences. The dictionary is never sent between the two sides, but is constructed independently by the sender and the receiver.\n",
        "\n",
        "*Sources*:\n",
        "* https://marknelson.us/posts/2011/11/08/lzw-revisited.html\n",
        "* https://en.wikipedia.org/wiki/Lempel%E2%80%93Ziv%E2%80%93Welch\n",
        "* https://www.mbit.edu.in/wp-content/uploads/2020/05/data_compression.pdf\n",
        "* https://www.youtube.com/watch?v=j2HSd3HCpDs"
      ],
      "metadata": {
        "id": "jRIYvVMESVq8"
      }
    },
    {
      "cell_type": "code",
      "source": [
        "\n",
        "def lzw_encoder(input_sequence, initialize_dict_size, max_dict_size=32767):\n",
        "  \"\"\"\n",
        "  Encode an input sequence using the LZW compression algorithm.\n",
        "\n",
        "  Args:\n",
        "      input_sequence (str): The input sequence to be encoded.\n",
        "      initialize_dict_size (int): The initial dictionary size.\n",
        "      max_dict_size (int, optional): The maximum dictionary size. Defaults to 32767.\n",
        "\n",
        "  Returns:\n",
        "      tuple: A tuple containing the encoded sequence and the encoder dictionary.\n",
        "  \"\"\"\n",
        "\n",
        "  # Initialize the encoder dictionary with 7 bit ASCII alphabet\n",
        "  encoder_dictionary = {}\n",
        "  for i in range(initialize_dict_size):\n",
        "    char = chr(i)\n",
        "    encoder_dictionary[char] = i\n",
        "\n",
        "  encoded_sequence = []\n",
        "  current_sequence = \"\"\n",
        "\n",
        "  # We will be adding new codes to the existing dictionary.\n",
        "  next_code = initialize_dict_size + 1\n",
        "\n",
        "  for character in input_sequence:\n",
        "    current_sequence = current_sequence + character\n",
        "\n",
        "    # We found some matching string, but after adding the new character it is no longer\n",
        "    # found in the dictionary, so we encode the longest maching string and add the\n",
        "    # new codeword with one more letter to the dictionary.\n",
        "    if current_sequence not in encoder_dictionary:\n",
        "\n",
        "      # Create new codeword that is one character longer than the matched sequence\n",
        "      # if there is still space in the dictionary.\n",
        "      if next_code <= max_dict_size:\n",
        "        encoder_dictionary[current_sequence] = next_code\n",
        "        next_code = next_code + 1\n",
        "\n",
        "      # We encode the longest matching string that was found in the dictionary.\n",
        "      matched_sequence = current_sequence[:-1]\n",
        "      current_sequence = character\n",
        "      encoded_sequence.append(encoder_dictionary[matched_sequence])\n",
        "\n",
        "  # Add the code for the final sequence to the dictionary.\n",
        "  encoded_sequence.append(encoder_dictionary[current_sequence])\n",
        "\n",
        "  return encoded_sequence, encoder_dictionary"
      ],
      "metadata": {
        "id": "8zs-5IKoPvns"
      },
      "execution_count": null,
      "outputs": []
    },
    {
      "cell_type": "code",
      "source": [
        "def lzw_decoder(encoded_sequence, initialize_dict_size, max_dict_size=32767):\n",
        "  \"\"\"\n",
        "  Decode an encoded sequence using the LZW compression algorithm.\n",
        "\n",
        "  Args:\n",
        "      encoded_sequence (list): The encoded sequence to be decoded.\n",
        "      initialize_dict_size (int): The initial dictionary size.\n",
        "      max_dict_size (int, optional): The maximum dictionary size. Defaults to 32767.\n",
        "\n",
        "  Returns:\n",
        "      tuple: A tuple containing the decoded string and the decoder dictionary.\n",
        "  \"\"\"\n",
        "  decoder_dictionary = {}\n",
        "  for i in range(initialize_dict_size):\n",
        "    char = chr(i)\n",
        "    decoder_dictionary[i] = char\n",
        "\n",
        "  next_code = initialize_dict_size + 1\n",
        "  previous_string = \"\"\n",
        "  decoded_string = \"\"\n",
        "\n",
        "  for code_word in encoded_sequence:\n",
        "    if code_word not in decoder_dictionary:\n",
        "      decoder_dictionary[code_word] = previous_string + previous_string[0]\n",
        "\n",
        "    decoded_string += decoder_dictionary[code_word]\n",
        "\n",
        "    if previous_string and next_code <= max_dict_size:\n",
        "      decoder_dictionary[next_code] = previous_string + decoder_dictionary[code_word][0]\n",
        "      next_code += 1\n",
        "\n",
        "    previous_string = decoder_dictionary[code_word]\n",
        "\n",
        "  return decoded_string, decoder_dictionary\n",
        "\n"
      ],
      "metadata": {
        "id": "I4BKP2JO9j1X"
      },
      "execution_count": null,
      "outputs": []
    },
    {
      "cell_type": "code",
      "source": [
        "encoded_sequence, encoder_dict = lzw_encoder(\"karawana karwasz-kara\", 128)\n",
        "print(encoded_sequence)\n",
        "\n",
        "decoded_sequence, decoder_dict = lzw_decoder(encoded_sequence, 128)\n",
        "print(decoded_sequence)"
      ],
      "metadata": {
        "colab": {
          "base_uri": "https://localhost:8080/"
        },
        "id": "Vqd5P2ipQZ9B",
        "outputId": "1610d304-3903-4a3a-f731-74347da8994e"
      },
      "execution_count": null,
      "outputs": [
        {
          "output_type": "stream",
          "name": "stdout",
          "text": [
            "[107, 97, 114, 97, 119, 97, 110, 97, 32, 129, 114, 133, 115, 122, 45, 138, 97]\n",
            "karawana karwasz-kara\n"
          ]
        }
      ]
    },
    {
      "cell_type": "code",
      "source": [
        "import requests\n",
        "import zipfile\n",
        "\n",
        "url = 'http://corpus.canterbury.ac.nz/resources/cantrbry.zip'\n",
        "r = requests.get(url, allow_redirects=True)\n",
        "\n",
        "open('cantrbry.zip', 'wb').write(r.content)\n",
        "with zipfile.ZipFile('cantrbry.zip', 'r') as zip_ref:\n",
        "    zip_ref.extractall('cantrbry')\n",
        "\n",
        "with open('cantrbry/alice29.txt', encoding='utf8') as f:\n",
        "    text = f.read()\n",
        "f.close()\n",
        "\n",
        "text = text.upper()\n",
        "print(text[:1000])"
      ],
      "metadata": {
        "colab": {
          "base_uri": "https://localhost:8080/"
        },
        "id": "0VwFsaIiT8IZ",
        "outputId": "3d0998f8-e7b9-403c-b043-fd10041bf8da"
      },
      "execution_count": null,
      "outputs": [
        {
          "output_type": "stream",
          "name": "stdout",
          "text": [
            "\n",
            "\n",
            "\n",
            "\n",
            "                ALICE'S ADVENTURES IN WONDERLAND\n",
            "\n",
            "                          LEWIS CARROLL\n",
            "\n",
            "               THE MILLENNIUM FULCRUM EDITION 2.9\n",
            "\n",
            "\n",
            "\n",
            "\n",
            "                            CHAPTER I\n",
            "\n",
            "                      DOWN THE RABBIT-HOLE\n",
            "\n",
            "\n",
            "  ALICE WAS BEGINNING TO GET VERY TIRED OF SITTING BY HER SISTER\n",
            "ON THE BANK, AND OF HAVING NOTHING TO DO:  ONCE OR TWICE SHE HAD\n",
            "PEEPED INTO THE BOOK HER SISTER WAS READING, BUT IT HAD NO\n",
            "PICTURES OR CONVERSATIONS IN IT, `AND WHAT IS THE USE OF A BOOK,'\n",
            "THOUGHT ALICE `WITHOUT PICTURES OR CONVERSATION?'\n",
            "\n",
            "  SO SHE WAS CONSIDERING IN HER OWN MIND (AS WELL AS SHE COULD,\n",
            "FOR THE HOT DAY MADE HER FEEL VERY SLEEPY AND STUPID), WHETHER\n",
            "THE PLEASURE OF MAKING A DAISY-CHAIN WOULD BE WORTH THE TROUBLE\n",
            "OF GETTING UP AND PICKING THE DAISIES, WHEN SUDDENLY A WHITE\n",
            "RABBIT WITH PINK EYES RAN CLOSE BY HER.\n",
            "\n",
            "  THERE WAS NOTHING SO VERY REMARKABLE IN THAT; NOR DID ALICE\n",
            "THINK IT SO VERY MUCH OUT OF THE WAY TO HEAR THE RABBIT SAY TO\n",
            "ITSELF, `OH DEAR!  OH DEAR!  I SHALL BE LAT\n"
          ]
        }
      ]
    },
    {
      "cell_type": "code",
      "source": [
        "encoded_sequence, encoder_dict = lzw_encoder(text, 128)\n",
        "print(encoded_sequence[:50])\n",
        "\n",
        "decoded_sequence, decoder_dict = lzw_decoder(encoded_sequence, 128)\n",
        "print(decoded_sequence[:1000]+\"...\")"
      ],
      "metadata": {
        "colab": {
          "base_uri": "https://localhost:8080/"
        },
        "id": "0AryqA3DhnCP",
        "outputId": "38a5d06a-4ede-4081-e1b8-99d8dbd1b4c2"
      },
      "execution_count": null,
      "outputs": [
        {
          "output_type": "stream",
          "name": "stdout",
          "text": [
            "[10, 129, 10, 32, 132, 133, 134, 135, 32, 65, 76, 73, 67, 69, 39, 83, 137, 68, 86, 69, 78, 84, 85, 82, 69, 144, 73, 78, 32, 87, 79, 78, 68, 69, 82, 76, 65, 160, 129, 136, 168, 169, 135, 76, 69, 87, 73, 144, 67, 65]\n",
            "\n",
            "\n",
            "\n",
            "\n",
            "                ALICE'S ADVENTURES IN WONDERLAND\n",
            "\n",
            "                          LEWIS CARROLL\n",
            "\n",
            "               THE MILLENNIUM FULCRUM EDITION 2.9\n",
            "\n",
            "\n",
            "\n",
            "\n",
            "                            CHAPTER I\n",
            "\n",
            "                      DOWN THE RABBIT-HOLE\n",
            "\n",
            "\n",
            "  ALICE WAS BEGINNING TO GET VERY TIRED OF SITTING BY HER SISTER\n",
            "ON THE BANK, AND OF HAVING NOTHING TO DO:  ONCE OR TWICE SHE HAD\n",
            "PEEPED INTO THE BOOK HER SISTER WAS READING, BUT IT HAD NO\n",
            "PICTURES OR CONVERSATIONS IN IT, `AND WHAT IS THE USE OF A BOOK,'\n",
            "THOUGHT ALICE `WITHOUT PICTURES OR CONVERSATION?'\n",
            "\n",
            "  SO SHE WAS CONSIDERING IN HER OWN MIND (AS WELL AS SHE COULD,\n",
            "FOR THE HOT DAY MADE HER FEEL VERY SLEEPY AND STUPID), WHETHER\n",
            "THE PLEASURE OF MAKING A DAISY-CHAIN WOULD BE WORTH THE TROUBLE\n",
            "OF GETTING UP AND PICKING THE DAISIES, WHEN SUDDENLY A WHITE\n",
            "RABBIT WITH PINK EYES RAN CLOSE BY HER.\n",
            "\n",
            "  THERE WAS NOTHING SO VERY REMARKABLE IN THAT; NOR DID ALICE\n",
            "THINK IT SO VERY MUCH OUT OF THE WAY TO HEAR THE RABBIT SAY TO\n",
            "ITSELF, `OH DEAR!  OH DEAR!  I SHALL BE LAT...\n"
          ]
        }
      ]
    },
    {
      "cell_type": "code",
      "source": [
        "def analyze_encoder_dictionary(encoder_dict, num_samples=30):\n",
        "    codeword_count = len(encoder_dict)\n",
        "    total_length = sum(len(codeword) for codeword in encoder_dict)\n",
        "    average_length = total_length / codeword_count\n",
        "\n",
        "    sample_sequences = []\n",
        "    sample_codes = []\n",
        "\n",
        "    # Get a random sample of sequences and their codes\n",
        "    import random\n",
        "    keys = list(encoder_dict.keys())\n",
        "    random.shuffle(keys)\n",
        "    sample_keys = keys[:num_samples]\n",
        "\n",
        "    for key in sample_keys:\n",
        "        sample_sequences.append(key)\n",
        "        sample_codes.append(encoder_dict[key])\n",
        "\n",
        "    return codeword_count, average_length, sample_sequences, sample_codes\n",
        "\n",
        "# Call the function to analyze the encoder_dict\n",
        "codeword_count, average_length, sample_sequences, sample_codes = analyze_encoder_dictionary(encoder_dict)\n",
        "\n",
        "print(\"Number of codewords in encoder_dict:\", codeword_count)\n",
        "print(\"Average length of codeword:\", average_length)\n",
        "print(\"Sample sequences and their codes:\")\n",
        "for sequence, code in zip(sample_sequences, sample_codes):\n",
        "    print(f\"Sequence: {sequence} | Code: {code}\")\n",
        "print(\"Efficiency: \" + str(7*average_length/15))\n"
      ],
      "metadata": {
        "colab": {
          "base_uri": "https://localhost:8080/"
        },
        "id": "wpcZGajhjBEW",
        "outputId": "74d8a97f-486e-4a9f-9255-f8834391648b"
      },
      "execution_count": null,
      "outputs": [
        {
          "output_type": "stream",
          "name": "stdout",
          "text": [
            "Number of codewords in encoder_dict: 32767\n",
            "Average length of codeword: 5.356639301736503\n",
            "Sample sequences and their codes:\n",
            "Sequence: L JU | Code: 10447\n",
            "Sequence: OLDIER | Code: 23189\n",
            "Sequence:  YOUR  | Code: 8705\n",
            "Sequence:  ONE, | Code: 32181\n",
            "Sequence: \n",
            "FAC | Code: 4624\n",
            "Sequence: OR A\n",
            " | Code: 19248\n",
            "Sequence: \n",
            "DORM | Code: 20694\n",
            "Sequence: E FOR S | Code: 14279\n",
            "Sequence: \n",
            "    AN | Code: 28809\n",
            "Sequence: BATS | Code: 2105\n",
            "Sequence: \n",
            "VE | Code: 12963\n",
            "Sequence:  NEI | Code: 21473\n",
            "Sequence: A,'  | Code: 31229\n",
            "Sequence: REPEA | Code: 15111\n",
            "Sequence: SHE WAS NO | Code: 6326\n",
            "Sequence: OWN\n",
            " | Code: 29740\n",
            "Sequence: `FI | Code: 30269\n",
            "Sequence: ORI | Code: 28656\n",
            "Sequence:  MAT | Code: 24217\n",
            "Sequence: BUT SHE CO | Code: 26341\n",
            "Sequence: ANT A | Code: 21083\n",
            "Sequence: MENT  | Code: 9914\n",
            "Sequence:                | Code: 4262\n",
            "Sequence: ALICE'S  | Code: 24851\n",
            "Sequence: , \" | Code: 9068\n",
            "Sequence: ER ` | Code: 9398\n",
            "Sequence: RE THE J | Code: 29814\n",
            "Sequence: T I H | Code: 18597\n",
            "Sequence: , ON B | Code: 21358\n",
            "Sequence: RITE TH | Code: 31967\n",
            "Efficiency: 2.499765007477035\n"
          ]
        }
      ]
    }
  ]
}